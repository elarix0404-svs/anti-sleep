{
  "nbformat": 4,
  "nbformat_minor": 0,
  "metadata": {
    "colab": {
      "provenance": [],
      "authorship_tag": "ABX9TyMg78V5uE2DU6S6Yz3XY+6n",
      "include_colab_link": true
    },
    "kernelspec": {
      "name": "python3",
      "display_name": "Python 3"
    },
    "language_info": {
      "name": "python"
    }
  },
  "cells": [
    {
      "cell_type": "markdown",
      "metadata": {
        "id": "view-in-github",
        "colab_type": "text"
      },
      "source": [
        "<a href=\"https://colab.research.google.com/github/elarix0404-svs/anti-sleep/blob/main/Copy_of_Untitled1.ipynb\" target=\"_parent\"><img src=\"https://colab.research.google.com/assets/colab-badge.svg\" alt=\"Open In Colab\"/></a>"
      ]
    },
    {
      "cell_type": "code",
      "execution_count": null,
      "metadata": {
        "id": "PaoMaQCE3vxI"
      },
      "outputs": [],
      "source": [
        "int sensorPin = 2;\n",
        "int buzzerPin = 8;\n",
        "int ledPin = 9;\n",
        "\n",
        "void setup() {\n",
        "  pinMode(sensorPin, INPUT);\n",
        "  pinMode(buzzerPin, OUTPUT);\n",
        "  pinMode(ledPin, OUTPUT);\n",
        "}\n",
        "\n",
        "void loop() {\n",
        "  int eyeStatus = digitalRead(sensorPin);\n",
        "\n",
        "  if (eyeStatus == LOW) { // Eye closed\n",
        "    delay(2000); // Wait 2 sec to confirm sleepiness\n",
        "    if (digitalRead(sensorPin) == LOW) {\n",
        "      digitalWrite(buzzerPin, HIGH);\n",
        "      digitalWrite(ledPin, HIGH);\n",
        "    }\n",
        "  } else {\n",
        "    digitalWrite(buzzerPin, LOW);\n",
        "    digitalWrite(ledPin, LOW);\n",
        "  }\n",
        "}\n"
      ]
    },
    {
      "cell_type": "code",
      "source": [
        "import cv2\n",
        "import numpy as np\n",
        "from keras.models import load_model\n",
        "import winsound  # For buzzer sound (Windows)\n",
        "\n",
        "# Load pre-trained eye state model\n",
        "model = load_model(\"drowsiness_model.h5\")\n",
        "\n",
        "# Start camera\n",
        "cap = cv2.VideoCapture(0)\n",
        "\n",
        "while True:\n",
        "    ret, frame = cap.read()\n",
        "    gray = cv2.cvtColor(frame, cv2.COLOR_BGR2GRAY)\n",
        "    face_cascade = cv2.CascadeClassifier(cv2.data.haarcascades + \"haarcascade_frontalface_default.xml\")\n",
        "    faces = face_cascade.detectMultiScale(gray, 1.3, 5)\n",
        "\n",
        "    for (x, y, w, h) in faces:\n",
        "        roi = gray[y:y+h, x:x+w]\n",
        "        roi = cv2.resize(roi, (64,64)) / 255.0\n",
        "        roi = roi.reshape(1,64,64,1)\n",
        "\n",
        "        prediction = model.predict(roi)\n",
        "        if prediction[0][0] > 0.5:   # Suppose [0]=Drowsy, [1]=Awake\n",
        "            cv2.putText(frame, \"DROWSY\", (50,50), cv2.FONT_HERSHEY_SIMPLEX, 1, (0,0,255), 2)\n",
        "            winsound.Beep(1000, 500)  # Alarm sound\n",
        "        else:\n",
        "            cv2.putText(frame, \"AWAKE\", (50,50), cv2.FONT_HERSHEY_SIMPLEX, 1, (0,255,0), 2)\n",
        "\n",
        "    cv2.imshow(\"Drowsiness Detection\", frame)\n",
        "\n",
        "    if cv2.waitKey(1) & 0xFF == ord('q'):\n",
        "        break\n",
        "\n",
        "cap.release()\n",
        "cv2.destroyAllWindows()\n"
      ],
      "metadata": {
        "id": "lOKwVewy39ZQ"
      },
      "execution_count": null,
      "outputs": []
    }
  ]
}